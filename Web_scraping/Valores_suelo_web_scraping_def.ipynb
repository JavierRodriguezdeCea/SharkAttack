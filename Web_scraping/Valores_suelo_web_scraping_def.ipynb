{
 "cells": [
  {
   "cell_type": "code",
   "execution_count": 28,
   "metadata": {},
   "outputs": [
    {
     "name": "stdout",
     "output_type": "stream",
     "text": [
      "        Price                                Area\n",
      "0  $2,999,000   8bds10ba5,263sqft- House for sale\n",
      "1  $3,999,000   9bds11ba4,968sqft- House for sale\n",
      "2  $2,580,000    5bds8ba6,837sqft- House for sale\n",
      "3  $2,900,000    5bds7ba4,500sqft- House for sale\n",
      "4  $2,499,000  10bds12ba4,997sqft- House for sale\n",
      "5  $2,900,000   8bds10ba5,258sqft- House for sale\n",
      "6    $315,000    6bds2ba1,820sqft- House for sale\n",
      "7    $829,000    5bds6ba2,434sqft- House for sale\n",
      "8  $2,099,000    6bds7ba4,344sqft- House for sale\n"
     ]
    }
   ],
   "source": [
    "from bs4 import BeautifulSoup\n",
    "import pandas as pd\n",
    "\n",
    "# Ruta del archivo HTML local\n",
    "file_path = '/Users/monzon8/Documents/Ironhack/PROYECTOS/02_Tiburones/Outer Banks Real Estate - Outer Banks Homes For Sale _ Zillow.html'\n",
    "with open(file_path, 'r', encoding='utf-8') as file:\n",
    "    html_content = file.read()\n",
    "\n",
    "# Analizo el HTML con BeautifulSoup\n",
    "soup = BeautifulSoup(html_content, 'html.parser')\n",
    "\n",
    "# Extraigo los precios y áreas con las clases CSS específicas\n",
    "pricesou = soup.find_all(class_=\"PropertyCardWrapper__StyledPriceLine-srp-8-105-0__sc-16e8gqd-1 dHAgxu\")\n",
    "areasou = soup.find_all(class_=\"StyledPropertyCardDataArea-c11n-8-105-0__sc-10i1r6-0 cCMTdc\")\n",
    "\n",
    "# Creo listas\n",
    "price_listou = [price.get_text(strip=True) for price in pricesou]\n",
    "area_listou = [area.get_text(strip=True) for area in areasou]\n",
    "\n",
    "# Crear un DataFrame para organizar los datos\n",
    "propertyou_data = {\n",
    "    'Price': price_listou,\n",
    "    'Area': area_listou\n",
    "}\n",
    "\n",
    "df_outer_banks = pd.DataFrame(propertyou_data)\n",
    "\n",
    "print(df_outer_banks)\n"
   ]
  },
  {
   "cell_type": "code",
   "execution_count": 29,
   "metadata": {},
   "outputs": [
    {
     "name": "stdout",
     "output_type": "stream",
     "text": [
      "        Price                                Area  Square_Feet\n",
      "0  $2,999,000   8bds10ba5,263sqft- House for sale         5263\n",
      "1  $3,999,000   9bds11ba4,968sqft- House for sale         4968\n",
      "2  $2,580,000    5bds8ba6,837sqft- House for sale         6837\n",
      "3  $2,900,000    5bds7ba4,500sqft- House for sale         4500\n",
      "4  $2,499,000  10bds12ba4,997sqft- House for sale         4997\n",
      "5  $2,900,000   8bds10ba5,258sqft- House for sale         5258\n",
      "6    $315,000    6bds2ba1,820sqft- House for sale         1820\n",
      "7    $829,000    5bds6ba2,434sqft- House for sale         2434\n",
      "8  $2,099,000    6bds7ba4,344sqft- House for sale         4344\n"
     ]
    }
   ],
   "source": [
    "def extract_area_value(area_string):\n",
    "    \"\"\"\n",
    "    Esta función busca el número entre 'ba' y 'sf' en una cadena de texto que describe el área,\n",
    "    sin utilizar expresiones regulares.\n",
    "    \"\"\"\n",
    "    # Nos aseguramos de que area_string contiene valores y es una cadena\n",
    "    if isinstance(area_string, str):\n",
    "        # Encontrar las posiciones de 'ba' y 'sqft' en la cadena\n",
    "        ba_index = area_string.find('ba')\n",
    "        sf_index = area_string.find('sqft')\n",
    "        \n",
    "        # Si ambos 'ba' y 'sqft' se encuentran en la cadena\n",
    "        if ba_index != -1 and sf_index != -1:\n",
    "            # Extramos la subcadena que está entre 'ba' y 'sqft'\n",
    "            number_string = area_string[ba_index+2:sf_index].strip()  # +2 para saltar 'ba'\n",
    "            \n",
    "            # Quitamos cualquier carácter no numérico restante\n",
    "            number_string = ''.join(char for char in number_string if char.isdigit())\n",
    "            \n",
    "            if number_string.isdigit():\n",
    "                return int(number_string)  \n",
    "            else:\n",
    "                return None  # Si no hay un número válido\n",
    "        else:\n",
    "            return None  # Si 'ba' o 'sqft' no se encuentran\n",
    "    else:\n",
    "        return None  # Si el valor no es una cadena\n",
    "\n",
    "# Aplicamos la función al DataFrame en la columna 'Area'\n",
    "df_outer_banks['Square_Feet'] = df_outer_banks['Area'].apply(extract_area_value)\n",
    "\n",
    "print(df_outer_banks)\n"
   ]
  },
  {
   "cell_type": "code",
   "execution_count": 30,
   "metadata": {},
   "outputs": [
    {
     "data": {
      "text/html": [
       "<div>\n",
       "<style scoped>\n",
       "    .dataframe tbody tr th:only-of-type {\n",
       "        vertical-align: middle;\n",
       "    }\n",
       "\n",
       "    .dataframe tbody tr th {\n",
       "        vertical-align: top;\n",
       "    }\n",
       "\n",
       "    .dataframe thead th {\n",
       "        text-align: right;\n",
       "    }\n",
       "</style>\n",
       "<table border=\"1\" class=\"dataframe\">\n",
       "  <thead>\n",
       "    <tr style=\"text-align: right;\">\n",
       "      <th></th>\n",
       "      <th>Price</th>\n",
       "      <th>Area</th>\n",
       "      <th>Square_Feet</th>\n",
       "      <th>$/f2</th>\n",
       "    </tr>\n",
       "  </thead>\n",
       "  <tbody>\n",
       "    <tr>\n",
       "      <th>0</th>\n",
       "      <td>2999000.0</td>\n",
       "      <td>8bds10ba5,263sqft- House for sale</td>\n",
       "      <td>5263.0</td>\n",
       "      <td>569.827095</td>\n",
       "    </tr>\n",
       "    <tr>\n",
       "      <th>1</th>\n",
       "      <td>3999000.0</td>\n",
       "      <td>9bds11ba4,968sqft- House for sale</td>\n",
       "      <td>4968.0</td>\n",
       "      <td>804.951691</td>\n",
       "    </tr>\n",
       "    <tr>\n",
       "      <th>2</th>\n",
       "      <td>2580000.0</td>\n",
       "      <td>5bds8ba6,837sqft- House for sale</td>\n",
       "      <td>6837.0</td>\n",
       "      <td>377.358491</td>\n",
       "    </tr>\n",
       "    <tr>\n",
       "      <th>3</th>\n",
       "      <td>2900000.0</td>\n",
       "      <td>5bds7ba4,500sqft- House for sale</td>\n",
       "      <td>4500.0</td>\n",
       "      <td>644.444444</td>\n",
       "    </tr>\n",
       "    <tr>\n",
       "      <th>4</th>\n",
       "      <td>2499000.0</td>\n",
       "      <td>10bds12ba4,997sqft- House for sale</td>\n",
       "      <td>4997.0</td>\n",
       "      <td>500.100060</td>\n",
       "    </tr>\n",
       "    <tr>\n",
       "      <th>5</th>\n",
       "      <td>2900000.0</td>\n",
       "      <td>8bds10ba5,258sqft- House for sale</td>\n",
       "      <td>5258.0</td>\n",
       "      <td>551.540510</td>\n",
       "    </tr>\n",
       "    <tr>\n",
       "      <th>6</th>\n",
       "      <td>315000.0</td>\n",
       "      <td>6bds2ba1,820sqft- House for sale</td>\n",
       "      <td>1820.0</td>\n",
       "      <td>173.076923</td>\n",
       "    </tr>\n",
       "    <tr>\n",
       "      <th>7</th>\n",
       "      <td>829000.0</td>\n",
       "      <td>5bds6ba2,434sqft- House for sale</td>\n",
       "      <td>2434.0</td>\n",
       "      <td>340.591619</td>\n",
       "    </tr>\n",
       "    <tr>\n",
       "      <th>8</th>\n",
       "      <td>2099000.0</td>\n",
       "      <td>6bds7ba4,344sqft- House for sale</td>\n",
       "      <td>4344.0</td>\n",
       "      <td>483.195212</td>\n",
       "    </tr>\n",
       "  </tbody>\n",
       "</table>\n",
       "</div>"
      ],
      "text/plain": [
       "       Price                                Area  Square_Feet        $/f2\n",
       "0  2999000.0   8bds10ba5,263sqft- House for sale       5263.0  569.827095\n",
       "1  3999000.0   9bds11ba4,968sqft- House for sale       4968.0  804.951691\n",
       "2  2580000.0    5bds8ba6,837sqft- House for sale       6837.0  377.358491\n",
       "3  2900000.0    5bds7ba4,500sqft- House for sale       4500.0  644.444444\n",
       "4  2499000.0  10bds12ba4,997sqft- House for sale       4997.0  500.100060\n",
       "5  2900000.0   8bds10ba5,258sqft- House for sale       5258.0  551.540510\n",
       "6   315000.0    6bds2ba1,820sqft- House for sale       1820.0  173.076923\n",
       "7   829000.0    5bds6ba2,434sqft- House for sale       2434.0  340.591619\n",
       "8  2099000.0    6bds7ba4,344sqft- House for sale       4344.0  483.195212"
      ]
     },
     "execution_count": 30,
     "metadata": {},
     "output_type": "execute_result"
    }
   ],
   "source": [
    "# Eliminamos los símbolos de dólar y comas de 'Price'\n",
    "df_outer_banks['Price'] = df_outer_banks['Price'].replace({'\\$': '', ',': ''}, regex=True).astype(float)\n",
    "\n",
    "# Eliminamos las comas de 'Square Feet' y convertimos a numérico\n",
    "df_outer_banks['Square_Feet'] = df_outer_banks['Square_Feet'].replace({',': ''}, regex=True).astype(float)\n",
    "\n",
    "# Calculamos el precio por square foot\n",
    "df_outer_banks['$/f2'] = df_outer_banks['Price'] / df_outer_banks['Square_Feet']\n",
    "\n",
    "df_outer_banks"
   ]
  },
  {
   "cell_type": "code",
   "execution_count": 31,
   "metadata": {},
   "outputs": [
    {
     "data": {
      "text/plain": [
       "493.8984493308887"
      ]
     },
     "execution_count": 31,
     "metadata": {},
     "output_type": "execute_result"
    }
   ],
   "source": [
    "# Filtramos las filas donde el precio por pie cuadrado es válido (no NaN)\n",
    "outer_banks_price_sqft = df_outer_banks['$/f2'].dropna()\n",
    "\n",
    "# Calculamos la media del precio por pie cuadrado\n",
    "outer_banks_mean = outer_banks_price_sqft.mean()\n",
    "\n",
    "outer_banks_mean"
   ]
  },
  {
   "cell_type": "code",
   "execution_count": 24,
   "metadata": {},
   "outputs": [
    {
     "name": "stdout",
     "output_type": "stream",
     "text": [
      "493.8984493308887\n"
     ]
    }
   ],
   "source": [
    "print(outer_banks_mean)\n"
   ]
  },
  {
   "cell_type": "code",
   "execution_count": 25,
   "metadata": {},
   "outputs": [],
   "source": [
    "ny_montauk_mean = 3923.891149813695\n",
    "hawaii_mean = 1766.9549815547869\n",
    "tx_southpadre_mean = 474.9413689275061\n",
    "outer_banks_mean = 493.8984493308887\n"
   ]
  },
  {
   "cell_type": "code",
   "execution_count": 32,
   "metadata": {},
   "outputs": [
    {
     "name": "stdout",
     "output_type": "stream",
     "text": [
      "La media de los precios de las 3 ubicaciones seleccionadas\n",
      "en casas de más de 5 dormitorios y con superficie suficiente:\n",
      "New York - Montauk Beaxh: $42,236.76\n",
      "Texas - South Padre Island: $5,112.27\n",
      "North Caroline - Outer Banks: $5,316.32\n",
      "Hawaii - Oahu Island:  $19,019.50\n"
     ]
    }
   ],
   "source": [
    "hawai_oahu_mean_m = hawaii_mean * 10.764\n",
    "\n",
    "tx_southpadre_mean_m = tx_southpadre_mean * 10.764\n",
    "\n",
    "ny_montauk_mean_m = ny_montauk_mean * 10.764\n",
    "\n",
    "outer_banks_mean_m = outer_banks_mean * 10.764\n",
    "\n",
    "print('La media de los precios de las 3 ubicaciones seleccionadas')\n",
    "print('en casas de más de 5 dormitorios y con superficie suficiente:')\n",
    "print(f\"New York - Montauk Beaxh: ${ny_montauk_mean_m:,.2f}\")\n",
    "print(f\"Texas - South Padre Island: ${tx_southpadre_mean_m:,.2f}\")\n",
    "print(f\"North Caroline - Outer Banks: ${outer_banks_mean_m:,.2f}\")\n",
    "print(f\"Hawaii - Oahu Island:  ${hawai_oahu_mean_m:,.2f}\")\n"
   ]
  }
 ],
 "metadata": {
  "kernelspec": {
   "display_name": "Python 3",
   "language": "python",
   "name": "python3"
  },
  "language_info": {
   "codemirror_mode": {
    "name": "ipython",
    "version": 3
   },
   "file_extension": ".py",
   "mimetype": "text/x-python",
   "name": "python",
   "nbconvert_exporter": "python",
   "pygments_lexer": "ipython3",
   "version": "3.8.2"
  }
 },
 "nbformat": 4,
 "nbformat_minor": 2
}
